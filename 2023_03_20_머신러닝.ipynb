{
  "nbformat": 4,
  "nbformat_minor": 0,
  "metadata": {
    "colab": {
      "provenance": [],
      "authorship_tag": "ABX9TyN/Y8/L7Ihve76gdTYFf6Kd",
      "include_colab_link": true
    },
    "kernelspec": {
      "name": "python3",
      "display_name": "Python 3"
    },
    "language_info": {
      "name": "python"
    }
  },
  "cells": [
    {
      "cell_type": "markdown",
      "metadata": {
        "id": "view-in-github",
        "colab_type": "text"
      },
      "source": [
        "<a href=\"https://colab.research.google.com/github/chldkduds2/2023-schoolAiMachineLearning/blob/main/2023_03_20_%EB%A8%B8%EC%8B%A0%EB%9F%AC%EB%8B%9D.ipynb\" target=\"_parent\"><img src=\"https://colab.research.google.com/assets/colab-badge.svg\" alt=\"Open In Colab\"/></a>"
      ]
    },
    {
      "cell_type": "code",
      "execution_count": null,
      "metadata": {
        "colab": {
          "base_uri": "https://localhost:8080/"
        },
        "id": "t6Mm0GxSelkA",
        "outputId": "d1afa4e0-f240-4fa3-b8f9-9d8f82ec753b"
      },
      "outputs": [
        {
          "output_type": "stream",
          "name": "stdout",
          "text": [
            "3 2\n"
          ]
        }
      ],
      "source": [
        "MyList = [lambda a,b: a+b, lambda a,b:a*b]\n",
        "print(MyList[0](1,2),MyList[1](1,2))"
      ]
    },
    {
      "cell_type": "code",
      "source": [
        "try:\n",
        "    x = int(input('나눌 숫자를 입력하세요: '))\n",
        "    y = 10 / x\n",
        "    print(y)\n",
        "except:   \n",
        "    print('예외가 발생했습니다.')"
      ],
      "metadata": {
        "colab": {
          "base_uri": "https://localhost:8080/"
        },
        "id": "wnYVVlKPfSjN",
        "outputId": "068393de-0ef4-42bc-a837-f3bef8987264"
      },
      "execution_count": null,
      "outputs": [
        {
          "output_type": "stream",
          "name": "stdout",
          "text": [
            "나눌 숫자를 입력하세요: aaa\n",
            "예외가 발생했습니다.\n"
          ]
        }
      ]
    },
    {
      "cell_type": "code",
      "source": [
        "try:\n",
        "    x = int(input('나눌 숫자를 입력하세요: '))\n",
        "    y = 10 / x\n",
        "except:   \n",
        "    print('예외가 발생했습니다.')\n",
        "else:\n",
        "  print(y)\n",
        "finally:\n",
        "  print('종료')\n"
      ],
      "metadata": {
        "colab": {
          "base_uri": "https://localhost:8080/"
        },
        "id": "E51bnM5XfSge",
        "outputId": "71a16719-1f35-4584-96a5-fe3520f49de6"
      },
      "execution_count": null,
      "outputs": [
        {
          "output_type": "stream",
          "name": "stdout",
          "text": [
            "나눌 숫자를 입력하세요: 1\n",
            "10.0\n",
            "끝\n"
          ]
        }
      ]
    },
    {
      "cell_type": "code",
      "source": [
        "\n",
        "y = [10, 20, 30]\n",
        "try: \n",
        "  a, b = map(int, input().split(' '))\n",
        "  y=y[a]/b\n",
        "\n",
        "except ZeroDivisionError:\n",
        "  print('ZeroDivisionError')\n",
        "\n",
        "except IndexError:\n",
        "  print('IndexError')\n",
        "\n",
        "else:\n",
        "  print(y)\n",
        "  \n"
      ],
      "metadata": {
        "colab": {
          "base_uri": "https://localhost:8080/"
        },
        "id": "ZpPAnkYRfSbd",
        "outputId": "37aabb87-8b72-49b0-afaf-2502abc1013c"
      },
      "execution_count": null,
      "outputs": [
        {
          "output_type": "stream",
          "name": "stdout",
          "text": [
            "1 5\n",
            "4.0\n"
          ]
        }
      ]
    },
    {
      "cell_type": "code",
      "source": [
        "try:\n",
        "  a, b= map(int, input(' '))\n",
        "  a=[10,20]\n",
        "  A=a[a]/b\n",
        "except (ZeroDivisionError, IndexError) as e:\n",
        "  print(e)\n",
        "except ValueError:\n",
        "  print('숫자만 입력해 주세요.')\n",
        "else:\n",
        "    print(a)\n"
      ],
      "metadata": {
        "colab": {
          "base_uri": "https://localhost:8080/"
        },
        "id": "Ytjgx55BjSy1",
        "outputId": "384c2564-bd37-4776-af1f-fe5333d86d3d"
      },
      "execution_count": null,
      "outputs": [
        {
          "output_type": "stream",
          "name": "stdout",
          "text": [
            " 1 sdfsd\n",
            "숫자만 입력해 주세요.\n"
          ]
        }
      ]
    },
    {
      "cell_type": "code",
      "source": [
        "\n",
        "f = open('test.txt', 'w')\n",
        "f.write(\"홍길동\\n\")\n",
        "f.write(\"일지매\\n\")\n",
        "f.write(\"전우치\\n\")\n",
        "f.write(\"강감찬\\n\")\n",
        "f.write(\"심사임당\")\n",
        "f.close()\n",
        "\n",
        "file_path = 'test.txt'\n",
        "\n",
        "with open(file_path) as f:\n",
        "    lines = f.read().splitlines()\n",
        "\n",
        "try:\n",
        "  userInput=int(input('몇 건을 출력할까요?:'))\n",
        "  outList=lines[userInput]\n",
        "except IndexError:\n",
        "  for i in lines:\n",
        "    print(i)\n",
        "  print('모든 행이 출력 완료되었습니다')\n",
        "\n",
        "else :\n",
        "  for i in range(0,userInput):\n",
        "    print(lines[i])\n",
        "\n"
      ],
      "metadata": {
        "colab": {
          "base_uri": "https://localhost:8080/"
        },
        "id": "giO85mV5l13j",
        "outputId": "af86a6a5-4188-47dc-9bd4-7c9ede4a117c"
      },
      "execution_count": null,
      "outputs": [
        {
          "output_type": "stream",
          "name": "stdout",
          "text": [
            "몇 건을 출력할까요?:10\n",
            "홍길동\n",
            "일지매\n",
            "전우치\n",
            "강감찬\n",
            "심사임당\n",
            "모든 행이 출력 완료되었습니다\n"
          ]
        }
      ]
    }
  ]
}