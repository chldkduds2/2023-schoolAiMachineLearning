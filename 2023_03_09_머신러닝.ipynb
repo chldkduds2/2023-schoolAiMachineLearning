{
  "nbformat": 4,
  "nbformat_minor": 0,
  "metadata": {
    "colab": {
      "provenance": [],
      "authorship_tag": "ABX9TyOGo1g/NeOf1EcOsB9AerFE",
      "include_colab_link": true
    },
    "kernelspec": {
      "name": "python3",
      "display_name": "Python 3"
    },
    "language_info": {
      "name": "python"
    }
  },
  "cells": [
    {
      "cell_type": "markdown",
      "metadata": {
        "id": "view-in-github",
        "colab_type": "text"
      },
      "source": [
        "<a href=\"https://colab.research.google.com/github/chldkduds2/2023-schoolAiMachineLearning/blob/main/2023_03_09_%EB%A8%B8%EC%8B%A0%EB%9F%AC%EB%8B%9D.ipynb\" target=\"_parent\"><img src=\"https://colab.research.google.com/assets/colab-badge.svg\" alt=\"Open In Colab\"/></a>"
      ]
    },
    {
      "cell_type": "code",
      "execution_count": null,
      "metadata": {
        "colab": {
          "base_uri": "https://localhost:8080/"
        },
        "id": "UWeoOSAq2wkh",
        "outputId": "0e08d74d-bd47-4406-b2eb-fca1c76c6eea"
      },
      "outputs": [
        {
          "output_type": "stream",
          "name": "stdout",
          "text": [
            "태어난 연도를 입력하세요.2006\n",
            "2006\n",
            "2006년\n",
            "18 세\n"
          ]
        }
      ],
      "source": [
        "Brith_year=input('태어난 연도를 입력하세요.')\n",
        "print(Brith_year)\n",
        "print(Brith_year+'년')\n",
        "print(2023-int(Brith_year)+1,'세')"
      ]
    },
    {
      "cell_type": "code",
      "source": [
        "num=int(input(''))\n",
        "if num%3==0:\n",
        "  print(num**2)\n",
        "else:\n",
        "  print(0)"
      ],
      "metadata": {
        "colab": {
          "base_uri": "https://localhost:8080/"
        },
        "id": "ZYIKlhkZ38Jb",
        "outputId": "4b11b418-c79c-4d1a-84d9-d3b65671262e"
      },
      "execution_count": null,
      "outputs": [
        {
          "output_type": "stream",
          "name": "stdout",
          "text": [
            "9\n",
            "81\n"
          ]
        }
      ]
    },
    {
      "cell_type": "code",
      "source": [
        "\n",
        "fruit=input('')\n",
        "if fruit=='사과':\n",
        "  print('Good~~')\n",
        "elif fruit=='감':\n",
        "  print('Very Good~~')\n",
        "elif fruit=='귤':\n",
        "  print('So so....')\n",
        "else:\n",
        "  print('사과나 감, 귤 중 하나를 입력하세요~~')"
      ],
      "metadata": {
        "colab": {
          "base_uri": "https://localhost:8080/"
        },
        "id": "69uwSCLm4b6V",
        "outputId": "5ccb4054-863f-4663-d828-d3f9b3c288b0"
      },
      "execution_count": null,
      "outputs": [
        {
          "output_type": "stream",
          "name": "stdout",
          "text": [
            "배\n",
            "사과나 감, 귤 중 하나를 입력하세요~~\n"
          ]
        }
      ]
    },
    {
      "cell_type": "code",
      "source": [
        "a=input('')\n",
        "if a=='사과'or a=='감':\n",
        "  print('Very Good~~')\n",
        "elif a=='귤'or a=='복숭아':\n",
        "  print('Good~~')\n",
        "else:\n",
        "  print('사과나 감, 귤, 복숭아 중 하나를 입력하세요~~')\n"
      ],
      "metadata": {
        "colab": {
          "base_uri": "https://localhost:8080/"
        },
        "id": "_sZ7vHP25AjH",
        "outputId": "bb131279-6854-4bbd-e24d-ffd7b04069bb"
      },
      "execution_count": null,
      "outputs": [
        {
          "output_type": "stream",
          "name": "stdout",
          "text": [
            "복숭아\n",
            "Good~~\n"
          ]
        }
      ]
    },
    {
      "cell_type": "code",
      "source": [
        "print('1.짜장면 - 5,000원          2.짬뽕 - 6,000원\\n3.군만두 - 8,000원          4.탕수육 - 10,000원 ')\n",
        "menu=input('\\n위 메뉴 중 주문할 메뉴의 번호를 쓰세요:')\n",
        "menu_count=int(input('위 메뉴의 주문 수량을 쓰세요:'))\n",
        "\n",
        "if menu=='짜장면':\n",
        "  menu_price=5000*menu_count\n",
        "elif menu=='짬뽕':\n",
        "  menu_price=6000*menu_count\n",
        "elif menu=='군만두':\n",
        "  menu_price=8000*menu_count\n",
        "elif menu=='탕수육':\n",
        "  menu_price=10000*menu_count\n",
        "\n",
        "print('\\n주문하신 메뉴는 짜장면이고 주문 수량은',menu_count,'그릇이며 주문금액은',menu_price,'입니다')"
      ],
      "metadata": {
        "colab": {
          "base_uri": "https://localhost:8080/"
        },
        "id": "A6tj3gU65Adk",
        "outputId": "6baa1ac1-05ce-4135-d261-d41b6a14512f"
      },
      "execution_count": null,
      "outputs": [
        {
          "output_type": "stream",
          "name": "stdout",
          "text": [
            "1.짜장면 - 5,000원          2.짬뽕 - 6,000원\n",
            "3.군만두 - 8,000원          4.탕수육 - 10,000원 \n",
            "\n",
            "위 메뉴 중 주문할 메뉴의 번호를 쓰세요:짜장면\n",
            "위 메뉴의 주문 수량을 쓰세요:2\n",
            "\n",
            "주문하신 메뉴는 짜장면이고 주문 수량은 2 그릇이며 주문금액은 10000 입니다\n"
          ]
        }
      ]
    },
    {
      "cell_type": "code",
      "source": [
        "kind=input('좌석 종류를 선택해 주세요:')\n",
        "\n",
        "kind_price=['VIP',150000,'S',110000,'A',90000,'B',70000]\n",
        "\n",
        "if kind=='VIP':\n",
        "  print('해당 좌석은\n",
        "',kind_price[0],'으로 가격은',kind_price[1],'원 입니다.')\n",
        "elif kind=='S':\n",
        "  print('해당 좌석은\n",
        "',kind_price[2],'으로 가격은',kind_price[3],'원 입니다.')\n",
        "elif kind=='A':\n",
        "  print('해당 좌석은\n",
        "',kind_price[4],'으로 가격은',kind_price[5],'원 입니다.')\n",
        "elif kind=='B':\n",
        "  print('해당 좌석은\n",
        "',kind_price[6],'으로 가격은',kind_price[7],'원 입니다.')\n",
        "else:\n",
        "  print('해당 좌석은 표가 없는 잘 못된 좌석입니다.')"
      ],
      "metadata": {
        "colab": {
          "base_uri": "https://localhost:8080/"
        },
        "id": "S2-VzDoZ6wIu",
        "outputId": "f62f4d71-a77a-46f9-b674-5e74fa04add7"
      },
      "execution_count": null,
      "outputs": [
        {
          "output_type": "stream",
          "name": "stdout",
          "text": [
            "좌석 종류를 선택해 주세요:A\n",
            "해당 좌석은\u001d A 으로 가격은 90000 원 입니다.\n"
          ]
        }
      ]
    },
    {
      "cell_type": "code",
      "source": [
        "from ast import Break\n",
        "kind=input('좌석 종류를 선택해 주세요:')\n",
        "\n",
        "seat_kind=['VIP','S','A','B']\n",
        "kind_price=[150000,110000,90000,70000]\n",
        "\n",
        "n=999\n",
        "\n",
        "if kind=='VIP':\n",
        "  n=0\n",
        "elif kind=='S':\n",
        "  n=1\n",
        "elif kind=='A':\n",
        "  n=2\n",
        "elif kind=='B':\n",
        "  n=3\n",
        "\n",
        "if n==999:\n",
        "  print('해당 좌석은 표가 없는 잘 못된 좌석입니다.')\n",
        "\n",
        "else:\n",
        "  print('해당 좌석은',seat_kind[n],'으로 가격은',kind_price[n],'원 입니다.')"
      ],
      "metadata": {
        "colab": {
          "base_uri": "https://localhost:8080/"
        },
        "id": "rrNlyCuj7fte",
        "outputId": "2dc24685-c2a6-47fd-f153-10aef4183b1a"
      },
      "execution_count": null,
      "outputs": [
        {
          "output_type": "stream",
          "name": "stdout",
          "text": [
            "좌석 종류를 선택해 주세요:A\n",
            "해당 좌석은 A 으로 가격은 90000 원 입니다.\n"
          ]
        }
      ]
    }
  ]
}