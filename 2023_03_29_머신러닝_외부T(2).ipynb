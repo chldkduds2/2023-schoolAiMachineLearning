{
  "nbformat": 4,
  "nbformat_minor": 0,
  "metadata": {
    "colab": {
      "provenance": [],
      "authorship_tag": "ABX9TyMELyCxWUHUE7zWM/dPHiv5",
      "include_colab_link": true
    },
    "kernelspec": {
      "name": "python3",
      "display_name": "Python 3"
    },
    "language_info": {
      "name": "python"
    }
  },
  "cells": [
    {
      "cell_type": "markdown",
      "metadata": {
        "id": "view-in-github",
        "colab_type": "text"
      },
      "source": [
        "<a href=\"https://colab.research.google.com/github/chldkduds2/2023-schoolAiMachineLearning/blob/main/2023_03_29_%EB%A8%B8%EC%8B%A0%EB%9F%AC%EB%8B%9D_%EC%99%B8%EB%B6%80T(2).ipynb\" target=\"_parent\"><img src=\"https://colab.research.google.com/assets/colab-badge.svg\" alt=\"Open In Colab\"/></a>"
      ]
    },
    {
      "cell_type": "code",
      "execution_count": 62,
      "metadata": {
        "id": "BJdttT6yRXfW"
      },
      "outputs": [],
      "source": [
        "import gdown \n",
        "import pandas as pd\n",
        "\n",
        "def data_cleaning(failName):\n",
        "\n",
        "  #파일을 데이터프레임으로 읽기\n",
        "  ns_df = pd.read_csv('{}'.format(failName),  low_memory=False, encoding='cp949')\n",
        "\n",
        "  #NaN 하나 이상인 열을 삭제\n",
        "  ns_book = ns_df.dropna(axis=1, how='all')\n",
        "\n",
        "  #대출건수를 합치기 위해 필요한 행만 추출하여 새로운 데이터 프레임만들기 ('도서명','저자','ISBN','권','대출건수')\n",
        "  count_df = ns_book[['도서명','저자','ISBN','권','대출건수']]\n",
        "\n",
        "  #'도서명','저자','ISBN','권'을 기준으로 대출건수를 groupby하기 \n",
        "  loan_count = ns_book.groupby(by=['도서명','저자','ISBN','권'], dropna=False).sum()\n",
        "\n",
        "\n",
        "  #원본 데이터프레임에서 중복된 행을 제외하고 고유한 행만 추출하여 복사\n",
        "  dup_rows = ns_df.duplicated(subset=['도서명','저자','ISBN','권'], keep=False)\n",
        "  unique_rows = ~dup_rows\n",
        "  ns_book3 = ns_book[unique_rows].copy()\n",
        "\n",
        "  #도서명, 저자, ISBN, 권을 인덱스로 설정\n",
        "  ns_book3.set_index(['도서명','저자','ISBN','권'], inplace=True)\n",
        "\n",
        "  #loan_count에서 저장된 누적 대출건수 업데이트\n",
        "  ns_book3.update(loan_count)\n",
        "\n",
        "  #인덱스 설정\n",
        "  ns_book4= ns_book3.reset_index()\n",
        "  \n",
        "  #원본 데이터프레임의 열 순서 변경\n",
        "  ns_book4 = ns_book4[ns_book.columns]\n",
        "  return ns_book4\n",
        "\n",
        "ns_book = data_cleaning('대구 동구 신천도서관 장서 대출목록 (2023년 02월).csv')\n"
      ]
    },
    {
      "cell_type": "code",
      "source": [
        "new_ns_book = data_cleaning('대구 동구 신천도서관 장서 대출목록 (2023년 02월).csv')\n",
        "ns_book.equals(new_ns_book)"
      ],
      "metadata": {
        "colab": {
          "base_uri": "https://localhost:8080/"
        },
        "id": "YbMo7jTOVHrK",
        "outputId": "937449df-f67b-42e6-ec85-29ef911a125c"
      },
      "execution_count": 63,
      "outputs": [
        {
          "output_type": "execute_result",
          "data": {
            "text/plain": [
              "True"
            ]
          },
          "metadata": {},
          "execution_count": 63
        }
      ]
    }
  ]
}