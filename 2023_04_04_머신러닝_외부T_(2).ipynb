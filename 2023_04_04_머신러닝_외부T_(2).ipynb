{
  "nbformat": 4,
  "nbformat_minor": 0,
  "metadata": {
    "colab": {
      "provenance": [],
      "authorship_tag": "ABX9TyPhBH52m+cxqL/vfqduOcrW",
      "include_colab_link": true
    },
    "kernelspec": {
      "name": "python3",
      "display_name": "Python 3"
    },
    "language_info": {
      "name": "python"
    }
  },
  "cells": [
    {
      "cell_type": "markdown",
      "metadata": {
        "id": "view-in-github",
        "colab_type": "text"
      },
      "source": [
        "<a href=\"https://colab.research.google.com/github/chldkduds2/2023-schoolAiMachineLearning/blob/main/2023_04_04_%EB%A8%B8%EC%8B%A0%EB%9F%AC%EB%8B%9D_%EC%99%B8%EB%B6%80T_(2).ipynb\" target=\"_parent\"><img src=\"https://colab.research.google.com/assets/colab-badge.svg\" alt=\"Open In Colab\"/></a>"
      ]
    },
    {
      "cell_type": "code",
      "execution_count": 38,
      "metadata": {
        "colab": {
          "base_uri": "https://localhost:8080/"
        },
        "id": "P7Xh-ME57njz",
        "outputId": "b9eaf1d8-4575-438c-f1cc-bab0b958e8f9"
      },
      "outputs": [
        {
          "output_type": "stream",
          "name": "stdout",
          "text": [
            "혼자 공부하는 머신러닝+딥러닝\n"
          ]
        }
      ],
      "source": [
        "import requests\n",
        "from bs4 import BeautifulSoup\n",
        "\n",
        "\n",
        "def get_book_title(isbn):\n",
        "  #도서 검색 페이지 URL\n",
        "  url='http://www.yes24.com/product/search?domain=BOOK&query={}'\n",
        "  #URL에 ISBN을 넣어 HTML 가져오기\n",
        "  r= requests.get(url.format(isbn))\n",
        "  soup = BeautifulSoup(r.text, 'html.parser')\n",
        "  title = soup.find('a', attrs={'class':'gd_name'}).get_text()\n",
        "  return title\n",
        "\n",
        "titles = get_book_title(9791162243664)\n",
        "print(titles)\n",
        "\n"
      ]
    },
    {
      "cell_type": "code",
      "source": [
        "import requests\n",
        "from bs4 import BeautifulSoup\n",
        "\n",
        "\n",
        "def get_book_author(isbn):\n",
        "  #도서 검색 페이지 URL\n",
        "  url='http://www.yes24.com/product/search?domain=BOOK&query={}'\n",
        "  #URL에 ISBN을 넣어 HTML 가져오기\n",
        "  r= requests.get(url.format(isbn))\n",
        "  soup = BeautifulSoup(r.text, 'html.parser') #HTML 파싱\n",
        "  authors = soup.find('span', attrs={'class':'authPub info_auth'}).find_all('a')\n",
        "  author_list = [auth.get_text() for auth in authors]\n",
        "  author = ''.join(author_list)\n",
        "  return(author)\n"
      ],
      "metadata": {
        "id": "9yMupjZ6_roW"
      },
      "execution_count": 45,
      "outputs": []
    },
    {
      "cell_type": "code",
      "source": [
        "get_book_author(9791162243664)"
      ],
      "metadata": {
        "colab": {
          "base_uri": "https://localhost:8080/",
          "height": 36
        },
        "id": "hQTPj85C_rlm",
        "outputId": "b9eb6595-f8c6-4bb7-e98b-8ba67fa04c89"
      },
      "execution_count": 42,
      "outputs": [
        {
          "output_type": "execute_result",
          "data": {
            "text/plain": [
              "'박해선'"
            ],
            "application/vnd.google.colaboratory.intrinsic+json": {
              "type": "string"
            }
          },
          "metadata": {},
          "execution_count": 42
        }
      ]
    },
    {
      "cell_type": "code",
      "source": [
        "get_book_author(1169791972)"
      ],
      "metadata": {
        "colab": {
          "base_uri": "https://localhost:8080/",
          "height": 36
        },
        "id": "NBc8Hu3TFmbF",
        "outputId": "4ac2cf10-769b-4420-b874-eac05e379425"
      },
      "execution_count": 46,
      "outputs": [
        {
          "output_type": "execute_result",
          "data": {
            "text/plain": [
              "'신카이 마코토민경욱'"
            ],
            "application/vnd.google.colaboratory.intrinsic+json": {
              "type": "string"
            }
          },
          "metadata": {},
          "execution_count": 46
        }
      ]
    }
  ]
}