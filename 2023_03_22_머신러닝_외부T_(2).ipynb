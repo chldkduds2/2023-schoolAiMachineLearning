{
  "nbformat": 4,
  "nbformat_minor": 0,
  "metadata": {
    "colab": {
      "provenance": [],
      "authorship_tag": "ABX9TyO370Z0zKzprLzAwGYJufg8",
      "include_colab_link": true
    },
    "kernelspec": {
      "name": "python3",
      "display_name": "Python 3"
    },
    "language_info": {
      "name": "python"
    }
  },
  "cells": [
    {
      "cell_type": "markdown",
      "metadata": {
        "id": "view-in-github",
        "colab_type": "text"
      },
      "source": [
        "<a href=\"https://colab.research.google.com/github/chldkduds2/2023-schoolAiMachineLearning/blob/main/2023_03_22_%EB%A8%B8%EC%8B%A0%EB%9F%AC%EB%8B%9D_%EC%99%B8%EB%B6%80T_(2).ipynb\" target=\"_parent\"><img src=\"https://colab.research.google.com/assets/colab-badge.svg\" alt=\"Open In Colab\"/></a>"
      ]
    },
    {
      "cell_type": "code",
      "source": [],
      "metadata": {
        "id": "x4Y_EDyF_7ue"
      },
      "execution_count": null,
      "outputs": []
    },
    {
      "cell_type": "code",
      "source": [
        "\n"
      ],
      "metadata": {
        "id": "SqEFJDSs_7r3"
      },
      "execution_count": 18,
      "outputs": []
    },
    {
      "cell_type": "code",
      "source": [
        "import requests \n",
        "from bs4 import BeautifulSoup \n",
        "\n",
        "def get_page_cnt(isbn):\n",
        "  #온라인 서점의 검색 결과 페이지 url 생성\n",
        "  url=\"http://www.yes24.com/Product/Search?domain=BOOK&query={}\"\n",
        "  #검색 결과 페이지 HTML가져오기\n",
        "  r= requests.get(url.format(isbn))\n",
        "  #HTML파싱\n",
        "  soup = BeautifulSoup(r.text, \"html.parser\")\n",
        "  #a태그 찾기\n",
        "  tage_a= soup.find('a', attrs={'class':'gd_name'})\n",
        "\n",
        "  \n",
        "  #도서 상세 페이지 url호출\n",
        "  url2 = \"http://www.yes24.com\"+tage_a['href']\n",
        "  #도서 상세 페이지 HTML가져오기\n",
        "  r2= requests.get(url2.format(isbn))\n",
        "  #HTML파싱\n",
        "  soup2 = BeautifulSoup(r2.text, 'html.parser')\n",
        "  #div 태그 찾기\n",
        "  tage2_div = soup2.find('div', attrs={'id':'infoset_specific'})\n",
        "  #tr 태그 찾기\n",
        "  tage3_tr = tage2_div.find_all(\"tr\")\n",
        "  #tr 택의 쪽수 가져오기\n",
        "  for tr in tage3_tr:\n",
        "    if tr.find('th').get_text()==\"쪽수, 무게, 크기\":\n",
        "      tage4_td = tr.find('td').get_text()\n",
        "      return tage4_td.split()[0]\n",
        "\n",
        "print(get_page_cnt(9791190090018))\n"
      ],
      "metadata": {
        "colab": {
          "base_uri": "https://localhost:8080/"
        },
        "id": "huKDFbF4_7pR",
        "outputId": "34279d2e-9508-4aac-a233-42c6ada12819"
      },
      "execution_count": 40,
      "outputs": [
        {
          "output_type": "stream",
          "name": "stdout",
          "text": [
            "330쪽\n"
          ]
        }
      ]
    },
    {
      "cell_type": "code",
      "source": [
        "#오늘의 작가상\n",
        "isbn = 9791190090018\n",
        "#도서 검색결과 페이지 url 생성\n",
        "url=\"http://www.yes24.com/Product/Search?domain=BOOK&query={}\"\n",
        "#검색 결과 페이지 html  가져오기\n",
        "r = requests.get(url.format(isbn))\n",
        "#HTML 파싱\n",
        "soup = BeautifulSoup(r.text, 'html.parser')\n",
        "#태그 찾기\n",
        "tage_div = soup.find('div', attrs={'class':'yesAlertDl'})\n",
        "tage_ul = tage_div.find('ul', attrs={'class':'yesAlertLi'})\n",
        "tage_li = tage_ul.find_all('li')\n",
        "\n",
        "for li in tage_li:\n",
        "  if li.find('a').get_text == '오늘의 작가상':\n",
        "    tage_a = li.find('a').get_text()\n",
        "    print(tage_a)\n"
      ],
      "metadata": {
        "colab": {
          "base_uri": "https://localhost:8080/",
          "height": 241
        },
        "id": "FaFkaKsU_7ml",
        "outputId": "855d6b3e-3f39-45ee-fa0c-60fa2fd455f5"
      },
      "execution_count": 51,
      "outputs": [
        {
          "output_type": "error",
          "ename": "AttributeError",
          "evalue": "ignored",
          "traceback": [
            "\u001b[0;31m---------------------------------------------------------------------------\u001b[0m",
            "\u001b[0;31mAttributeError\u001b[0m                            Traceback (most recent call last)",
            "\u001b[0;32m<ipython-input-51-4e63b6e77b24>\u001b[0m in \u001b[0;36m<module>\u001b[0;34m\u001b[0m\n\u001b[1;32m      9\u001b[0m \u001b[0;31m#태그 찾기\u001b[0m\u001b[0;34m\u001b[0m\u001b[0;34m\u001b[0m\u001b[0m\n\u001b[1;32m     10\u001b[0m \u001b[0mtage_div\u001b[0m \u001b[0;34m=\u001b[0m \u001b[0msoup\u001b[0m\u001b[0;34m.\u001b[0m\u001b[0mfind\u001b[0m\u001b[0;34m(\u001b[0m\u001b[0;34m'div'\u001b[0m\u001b[0;34m,\u001b[0m \u001b[0mattrs\u001b[0m\u001b[0;34m=\u001b[0m\u001b[0;34m{\u001b[0m\u001b[0;34m'class'\u001b[0m\u001b[0;34m:\u001b[0m\u001b[0;34m'yesAlertDl'\u001b[0m\u001b[0;34m}\u001b[0m\u001b[0;34m)\u001b[0m\u001b[0;34m\u001b[0m\u001b[0;34m\u001b[0m\u001b[0m\n\u001b[0;32m---> 11\u001b[0;31m \u001b[0mtage_dd\u001b[0m \u001b[0;34m=\u001b[0m \u001b[0mtage_div\u001b[0m\u001b[0;34m.\u001b[0m\u001b[0mfind\u001b[0m\u001b[0;34m(\u001b[0m\u001b[0;34m'dd'\u001b[0m\u001b[0;34m)\u001b[0m\u001b[0;34m\u001b[0m\u001b[0;34m\u001b[0m\u001b[0m\n\u001b[0m\u001b[1;32m     12\u001b[0m \u001b[0mtage_ul\u001b[0m \u001b[0;34m=\u001b[0m \u001b[0mtage_dd\u001b[0m\u001b[0;34m.\u001b[0m\u001b[0mfind\u001b[0m\u001b[0;34m(\u001b[0m\u001b[0;34m'ul'\u001b[0m\u001b[0;34m,\u001b[0m \u001b[0mattrs\u001b[0m\u001b[0;34m=\u001b[0m\u001b[0;34m{\u001b[0m\u001b[0;34m'class'\u001b[0m\u001b[0;34m:\u001b[0m\u001b[0;34m'yesAlertLi'\u001b[0m\u001b[0;34m}\u001b[0m\u001b[0;34m)\u001b[0m\u001b[0;34m\u001b[0m\u001b[0;34m\u001b[0m\u001b[0m\n\u001b[1;32m     13\u001b[0m \u001b[0mtage_li\u001b[0m \u001b[0;34m=\u001b[0m \u001b[0mtage_ul\u001b[0m\u001b[0;34m.\u001b[0m\u001b[0mfind_all\u001b[0m\u001b[0;34m(\u001b[0m\u001b[0;34m'li'\u001b[0m\u001b[0;34m)\u001b[0m\u001b[0;34m\u001b[0m\u001b[0;34m\u001b[0m\u001b[0m\n",
            "\u001b[0;31mAttributeError\u001b[0m: 'NoneType' object has no attribute 'find'"
          ]
        }
      ]
    },
    {
      "cell_type": "code",
      "source": [],
      "metadata": {
        "id": "K3Iqks7bNFYu"
      },
      "execution_count": null,
      "outputs": []
    }
  ]
}