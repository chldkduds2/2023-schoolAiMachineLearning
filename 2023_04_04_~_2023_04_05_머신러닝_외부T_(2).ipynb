{
  "nbformat": 4,
  "nbformat_minor": 0,
  "metadata": {
    "colab": {
      "provenance": [],
      "authorship_tag": "ABX9TyMLN/9gGGAbXIXz3hmqBOPg",
      "include_colab_link": true
    },
    "kernelspec": {
      "name": "python3",
      "display_name": "Python 3"
    },
    "language_info": {
      "name": "python"
    }
  },
  "cells": [
    {
      "cell_type": "markdown",
      "metadata": {
        "id": "view-in-github",
        "colab_type": "text"
      },
      "source": [
        "<a href=\"https://colab.research.google.com/github/chldkduds2/2023-schoolAiMachineLearning/blob/main/2023_04_04_~_2023_04_05_%EB%A8%B8%EC%8B%A0%EB%9F%AC%EB%8B%9D_%EC%99%B8%EB%B6%80T_(2).ipynb\" target=\"_parent\"><img src=\"https://colab.research.google.com/assets/colab-badge.svg\" alt=\"Open In Colab\"/></a>"
      ]
    },
    {
      "cell_type": "code",
      "execution_count": 1,
      "metadata": {
        "colab": {
          "base_uri": "https://localhost:8080/"
        },
        "id": "P7Xh-ME57njz",
        "outputId": "0ed423ef-4d03-438d-b057-f25da06d1a8e"
      },
      "outputs": [
        {
          "output_type": "stream",
          "name": "stdout",
          "text": [
            "혼자 공부하는 머신러닝+딥러닝\n"
          ]
        }
      ],
      "source": [
        "#도서명\n",
        "import requests\n",
        "from bs4 import BeautifulSoup\n",
        "\n",
        "\n",
        "def get_book_title(isbn):\n",
        "  #도서 검색 페이지 URL\n",
        "  url='http://www.yes24.com/product/search?domain=BOOK&query={}'\n",
        "  #URL에 ISBN을 넣어 HTML 가져오기\n",
        "  r= requests.get(url.format(isbn))\n",
        "  #HTML 파싱\n",
        "  soup = BeautifulSoup(r.text, 'html.parser')\n",
        "  #요소 가져오기\n",
        "  title = soup.find('a', attrs={'class':'gd_name'}).get_text()#텍스트 형태로\n",
        "  return title\n",
        "\n",
        "titles = get_book_title(9791162243664)\n",
        "print(titles)\n",
        "\n"
      ]
    },
    {
      "cell_type": "code",
      "source": [
        "#저자\n",
        "\n",
        "def get_book_author(isbn):\n",
        "  #도서 검색 페이지 URL\n",
        "  url='http://www.yes24.com/product/search?domain=BOOK&query={}'\n",
        "  #URL에 ISBN을 넣어 HTML 가져오기\n",
        "  r= requests.get(url.format(isbn))\n",
        "  #HTML 파싱\n",
        "  soup = BeautifulSoup(r.text, 'html.parser') \n",
        "  authors = soup.find('span', attrs={'class':'authPub info_auth'}).find_all('a')\n",
        "  author_list = [auth.get_text() for auth in authors]\n",
        "  author = ''.join(author_list)\n",
        "  return(author)\n"
      ],
      "metadata": {
        "id": "9yMupjZ6_roW"
      },
      "execution_count": 2,
      "outputs": []
    },
    {
      "cell_type": "code",
      "source": [
        "get_book_author(9791162243664)"
      ],
      "metadata": {
        "colab": {
          "base_uri": "https://localhost:8080/",
          "height": 36
        },
        "id": "hQTPj85C_rlm",
        "outputId": "5cdfe284-60af-4f1e-df83-bd97ccc316db"
      },
      "execution_count": 3,
      "outputs": [
        {
          "output_type": "execute_result",
          "data": {
            "text/plain": [
              "'박해선'"
            ],
            "application/vnd.google.colaboratory.intrinsic+json": {
              "type": "string"
            }
          },
          "metadata": {},
          "execution_count": 3
        }
      ]
    },
    {
      "cell_type": "code",
      "source": [
        "get_book_author(1169791972)"
      ],
      "metadata": {
        "colab": {
          "base_uri": "https://localhost:8080/",
          "height": 36
        },
        "id": "NBc8Hu3TFmbF",
        "outputId": "57dacc60-c14e-4bf9-e40a-1e643737007b"
      },
      "execution_count": 4,
      "outputs": [
        {
          "output_type": "execute_result",
          "data": {
            "text/plain": [
              "'신카이 마코토민경욱'"
            ],
            "application/vnd.google.colaboratory.intrinsic+json": {
              "type": "string"
            }
          },
          "metadata": {},
          "execution_count": 4
        }
      ]
    },
    {
      "cell_type": "code",
      "source": [
        "#출판사\n",
        "\n",
        "def get_book_pub(isbn):\n",
        "  url='http://www.yes24.com/product/search?domain=BOOK&query={}'\n",
        "  r=requests.get(url.format(isbn))\n",
        "  soup = BeautifulSoup(r.text, 'html.parser')\n",
        "  pub_find = soup.find('span', attrs={'class':'info_pub'}).find('a').get_text()\n",
        "  return pub_find\n",
        "\n",
        "\n",
        "get_book_pub(9791162243664)\n",
        "\n"
      ],
      "metadata": {
        "colab": {
          "base_uri": "https://localhost:8080/",
          "height": 36
        },
        "id": "fkFJRjrDA_ZV",
        "outputId": "b4184e09-9ecd-4522-f24f-ef749253e5c8"
      },
      "execution_count": 46,
      "outputs": [
        {
          "output_type": "execute_result",
          "data": {
            "text/plain": [
              "'한빛미디어'"
            ],
            "application/vnd.google.colaboratory.intrinsic+json": {
              "type": "string"
            }
          },
          "metadata": {},
          "execution_count": 46
        }
      ]
    },
    {
      "cell_type": "code",
      "source": [
        "#발행년도\n",
        "import re\n",
        "\n",
        "def get_book_year(isbn):\n",
        "  url='http://www.yes24.com/product/search?domain=BOOK&query={}'\n",
        "  r=requests.get(url.format(isbn))\n",
        "  soup = BeautifulSoup(r.text, 'html.parser')\n",
        "  year_find=soup.find('span', attrs={'class':'info_date'}).get_text()\n",
        "  print(year_find)\n",
        "  print(year_find[:4])\n",
        "\n",
        "  #정규식에 따라 슬라이싱하기\n",
        "  year = re.findall(r'\\d{4}', year_find)[0]\n",
        "  return year\n",
        "\n",
        "get_book_year(9791162243664)\n"
      ],
      "metadata": {
        "colab": {
          "base_uri": "https://localhost:8080/",
          "height": 72
        },
        "id": "PXM_SL5UA_WP",
        "outputId": "5ae4e1b0-fb45-4f85-c006-b64fae41b6c6"
      },
      "execution_count": 43,
      "outputs": [
        {
          "output_type": "stream",
          "name": "stdout",
          "text": [
            "2020년 12월\n",
            "2020\n"
          ]
        },
        {
          "output_type": "execute_result",
          "data": {
            "text/plain": [
              "'2020'"
            ],
            "application/vnd.google.colaboratory.intrinsic+json": {
              "type": "string"
            }
          },
          "metadata": {},
          "execution_count": 43
        }
      ]
    },
    {
      "cell_type": "code",
      "source": [
        "#4개함수 한 번에\n",
        "import re\n",
        "import requests\n",
        "from bs4 import BeautifulSoup\n",
        "\n",
        "def get_book_info(row):\n",
        "  title = row['x도서명']\n",
        "  author = row['저자']\n",
        "  pub = row['출판사']\n",
        "  year = row['발행년도']\n",
        "  isbn = row['ISBN']\n",
        "\n",
        "  url = 'http://www.yes24.com/product/search?domain=BOOK&query={}'\n",
        "  r=requests.get(url,format(isbn))\n",
        "  soup = BeautifulSoup(r.text, 'html.parser')\n",
        "\n",
        "\n",
        "  try:\n",
        "\n",
        "    if title.isna().sum() > 0:\n",
        "      title = soup.find('a', attrs={'class':'gd_name'}).get_text()\n",
        "\n",
        "\n",
        "    if author.isna().sum() > 0:\n",
        "      authors = soup.find('span', attrs={'class':'info_auth'}).get_text()\n",
        "      author_list=[auth.get_text() for auth in authors]\n",
        "      author = ''.join(author_list)\n",
        "\n",
        "    if pub.isna().sum() > 0:\n",
        "      pub = soup.find('span', attrs={'class':'info_pub'}).find('a').get_text()\n",
        "\n",
        "    if year.isna().sum() > 0:\n",
        "       year_find=soup.find('span', attrs={'class':'info_date'}).get_text()\n",
        "       year = re.findall(r'\\d{4}', year_find)[0]\n",
        "\n",
        "    \n",
        "  except AttributeError:\n",
        "    pass\n",
        "\n",
        "  return title,author,pub,year"
      ],
      "metadata": {
        "id": "qKA3_7gtL-6K"
      },
      "execution_count": 47,
      "outputs": []
    },
    {
      "cell_type": "code",
      "source": [],
      "metadata": {
        "id": "Wk5BVstVL_t_"
      },
      "execution_count": null,
      "outputs": []
    }
  ]
}